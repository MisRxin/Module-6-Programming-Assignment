{
 "cells": [
  {
   "cell_type": "markdown",
   "id": "25d38964-fb52-406d-b69f-cca0c05c46d1",
   "metadata": {},
   "source": [
    "13.1 Write the current date as a string to the text file today.txt.\r\n"
   ]
  },
  {
   "cell_type": "code",
   "execution_count": 1,
   "id": "46dd192e-7624-4363-8e46-4fccc6f92497",
   "metadata": {},
   "outputs": [
    {
     "name": "stdout",
     "output_type": "stream",
     "text": [
      "The current date has been written to 'today.txt'.\n"
     ]
    }
   ],
   "source": [
    "from datetime import date\n",
    "\n",
    "    # Current Date\n",
    "current_date = date.today()\n",
    "\n",
    "    # Push To File = 'today.txt'\n",
    "with open(\"today.txt\", \"w\") as file:\n",
    "    file.write(current_date.strftime(\"%Y-%m-%d\"))\n",
    "\n",
    "print(\"The current date has been written to 'today.txt'.\")"
   ]
  },
  {
   "cell_type": "markdown",
   "id": "d9344031-5669-4ac0-a636-b4e3d12e1f64",
   "metadata": {},
   "source": [
    "13.2 Read the text file today.txt into the string today_string.\r\n"
   ]
  },
  {
   "cell_type": "code",
   "execution_count": 3,
   "id": "fe9e7afc-6af8-497b-94d7-9d388e68cb2d",
   "metadata": {},
   "outputs": [
    {
     "name": "stdout",
     "output_type": "stream",
     "text": [
      "The content of 'today.txt' is: 2024-12-15\n"
     ]
    }
   ],
   "source": [
    "    # Read 'today.txt' into 'today_string'\n",
    "with open(\"today.txt\", \"r\") as file:\n",
    "    today_string = file.read().strip()\n",
    "\n",
    "print(f\"The content of 'today.txt' is: {today_string}\")"
   ]
  },
  {
   "cell_type": "markdown",
   "id": "449f3a53-589a-445f-9e80-27e538b58a3b",
   "metadata": {},
   "source": [
    "13.3 Parse the date from today_string.\r\n"
   ]
  },
  {
   "cell_type": "code",
   "execution_count": null,
   "id": "17263e3f-df6b-4f61-8e59-92b5b9e81d33",
   "metadata": {},
   "outputs": [],
   "source": [
    "from datetime import datetime\n",
    "\n",
    "    # Analyze Date = 'today_string'\n",
    "today_string = \"2024-12-15\"\n",
    "parsed_date = datetime.strptime(today_string, \"%Y-%m-%d\").date()\n",
    "\n",
    "print(f\"The parsed date is: {parsed_date}\")"
   ]
  },
  {
   "cell_type": "markdown",
   "id": "f2d4c20d-6b36-460f-bcc3-6ce4778d2c39",
   "metadata": {},
   "source": [
    "15.1 Use multiprocessing to create three separate processes. Make each one wait a random number of seconds between zero and one, print the current time, and then exit.\r\n",
    "\r\n",
    "\r\n"
   ]
  },
  {
   "cell_type": "code",
   "execution_count": 5,
   "id": "75666bff-9c2e-45a8-aa2d-6478067eeafa",
   "metadata": {},
   "outputs": [
    {
     "name": "stdout",
     "output_type": "stream",
     "text": [
      "All processes have finished.\n"
     ]
    }
   ],
   "source": [
    "import multiprocessing\n",
    "import time\n",
    "import random\n",
    "from datetime import datetime\n",
    "\n",
    "def process_task(process_name):\n",
    "            # Random Delay 0 - 1 seconds\n",
    "    delay = random.uniform(0, 1)\n",
    "    time.sleep(delay)  # Wait for the delay\n",
    "    print(f\"{process_name} - Current time: {datetime.now().strftime('%H:%M:%S.%f')[:-3]}\")\n",
    "\n",
    "if __name__ == \"__main__\":\n",
    "    processes = []\n",
    "\n",
    "            # Three Processes\n",
    "    for i in range(3):\n",
    "        process_name = f\"Process-{i + 1}\"\n",
    "        process = multiprocessing.Process(target=process_task, args=(process_name,))\n",
    "        processes.append(process)\n",
    "        process.start()\n",
    "\n",
    "            # Wait For Completion\n",
    "    for process in processes:\n",
    "        process.join()\n",
    "\n",
    "    print(\"All processes have finished.\")"
   ]
  }
 ],
 "metadata": {
  "kernelspec": {
   "display_name": "Python 3 (ipykernel)",
   "language": "python",
   "name": "python3"
  },
  "language_info": {
   "codemirror_mode": {
    "name": "ipython",
    "version": 3
   },
   "file_extension": ".py",
   "mimetype": "text/x-python",
   "name": "python",
   "nbconvert_exporter": "python",
   "pygments_lexer": "ipython3",
   "version": "3.12.4"
  }
 },
 "nbformat": 4,
 "nbformat_minor": 5
}
